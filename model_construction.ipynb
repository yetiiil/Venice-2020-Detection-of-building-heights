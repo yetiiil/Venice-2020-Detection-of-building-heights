{
 "cells": [
  {
   "cell_type": "code",
   "execution_count": 1,
   "metadata": {},
   "outputs": [
    {
     "name": "stderr",
     "output_type": "stream",
     "text": [
      "INFO - 2021-12-22 16:06:58,054 - utils - NumExpr defaulting to 8 threads.\n"
     ]
    }
   ],
   "source": [
    "import numpy as np\n",
    "import open3d as o3d\n",
    "import matplotlib.pyplot as plt\n",
    "\n",
    "from pylab import *\n",
    "from pyntcloud import PyntCloud\n",
    "from matplotlib.pyplot import figure"
   ]
  },
  {
   "cell_type": "markdown",
   "metadata": {},
   "source": [
    "## Please note that this notebook is designed for constructing a model from the raw PointCloud. Do not run this notebook on a already constructed model, which will impair the completeness and the accuracy of the model."
   ]
  },
  {
   "cell_type": "markdown",
   "metadata": {},
   "source": [
    "# Visualize Point Cloud\n",
    "\n",
    "reads a point cloud model of Venice and visualizes it"
   ]
  },
  {
   "cell_type": "code",
   "execution_count": 2,
   "metadata": {},
   "outputs": [
    {
     "name": "stdout",
     "output_type": "stream",
     "text": [
      "Load a ply point cloud\n"
     ]
    }
   ],
   "source": [
    "print(\"Load a ply point cloud\")\n",
    "venice = o3d.io.read_point_cloud('/Users/liyuxiao/Downloads/venice_building_height/google_earth/google_earth.ply')"
   ]
  },
  {
   "cell_type": "code",
   "execution_count": 11,
   "metadata": {},
   "outputs": [
    {
     "name": "stdout",
     "output_type": "stream",
     "text": [
      "Print (and visualize) the ply point cloud\n",
      "PointCloud with 4093480 points.\n",
      "[[-3.21571106e+02 -2.48106494e+03  1.64116311e+00]\n",
      " [-3.28938873e+02 -2.48008789e+03  1.29477739e+00]\n",
      " [-3.28718689e+02 -2.47819043e+03  1.62962472e+00]\n",
      " ...\n",
      " [ 1.35218542e+03  1.88591583e+02  9.99854851e+00]\n",
      " [-7.04763123e+02  9.39715210e+02  7.02373171e+00]\n",
      " [-9.63983093e+02  3.89082733e+02  3.52930188e+00]]\n",
      "\u001b[1;33m[Open3D WARNING] GLFW Error: Cocoa: Failed to find service port for display\u001b[0;m\n"
     ]
    }
   ],
   "source": [
    "print(\"Print (and visualize) the ply point cloud\")\n",
    "print(venice)\n",
    "print(np.asarray(venice.points))\n",
    "o3d.visualization.draw_geometries([venice])"
   ]
  },
  {
   "cell_type": "markdown",
   "metadata": {},
   "source": [
    "# Voxel Downsampling\n",
    "Voxel downsampling uses a regular voxel grid to create a uniformly downsampled point cloud from an input point cloud. It is often used as a pre-processing step for many point cloud processing tasks. The algorithm operates in two steps:\n",
    "1. Points are bucketed into voxels.\n",
    "2. Each occupied voxel generates exactly one point by averaging all points inside."
   ]
  },
  {
   "cell_type": "code",
   "execution_count": 12,
   "metadata": {},
   "outputs": [
    {
     "name": "stdout",
     "output_type": "stream",
     "text": [
      "Downsample the point cloud with a voxel of 0.05\n"
     ]
    }
   ],
   "source": [
    "print(\"Downsample the point cloud with a voxel of 0.05\")\n",
    "venice_down = venice.voxel_down_sample(voxel_size = 0.05)"
   ]
  },
  {
   "cell_type": "markdown",
   "metadata": {},
   "source": [
    "After we downsampled the PointCloud, it should be much easier to visualize the PointCloud"
   ]
  },
  {
   "cell_type": "code",
   "execution_count": 17,
   "metadata": {},
   "outputs": [
    {
     "name": "stdout",
     "output_type": "stream",
     "text": [
      "\u001b[1;33m[Open3D WARNING] GLFW Error: Cocoa: Failed to find service port for display\u001b[0;m\n"
     ]
    }
   ],
   "source": [
    "o3d.visualization.draw_geometries([venice_down])"
   ]
  },
  {
   "cell_type": "markdown",
   "metadata": {},
   "source": [
    "# Plane Segmentation\n",
    "Open3D also supports segmententation of geometric primitives from point clouds using RANSAC. To find the plane with the largest support in the point cloud, we can use segment_plane. The method has three arguments: distance_threshold defines the maximum distance a point can have to an estimated plane to be considered an inlier, ransac_n defines the number of points that are randomly sampled to estimate a plane, and num_iterations defines how often a random plane is sampled and verified. The function then returns the plane as (𝑎,𝑏,𝑐,𝑑) such that for each point (𝑥,𝑦,𝑧) on the plane we have 𝑎𝑥+𝑏𝑦+𝑐𝑧+𝑑=0. The function further returns a list of indices of the inlier points."
   ]
  },
  {
   "cell_type": "code",
   "execution_count": 4,
   "metadata": {},
   "outputs": [
    {
     "name": "stdout",
     "output_type": "stream",
     "text": [
      "Plane equation: 9.751275202931665e-05x + 0.0007174054486077785y + 0.9999997379103084z + 0.11320834757526194 = 0\n"
     ]
    }
   ],
   "source": [
    "plane_model, inliers = venice_down.segment_plane(distance_threshold=0.01,\n",
    "                                         ransac_n=5,\n",
    "                                         num_iterations=1000)\n",
    "[a, b, c, d] = plane_model\n",
    "print(f\"Plane equation: {a}x + {b}y + {c}z + {d} = 0\")"
   ]
  },
  {
   "cell_type": "markdown",
   "metadata": {},
   "source": [
    "Visualize the plane"
   ]
  },
  {
   "cell_type": "code",
   "execution_count": 15,
   "metadata": {},
   "outputs": [
    {
     "name": "stdout",
     "output_type": "stream",
     "text": [
      "\u001b[1;33m[Open3D WARNING] GLFW Error: Cocoa: Failed to find service port for display\u001b[0;m\n"
     ]
    }
   ],
   "source": [
    "inlier_cloud = venice_down.select_by_index(inliers)\n",
    "inlier_cloud.paint_uniform_color([1.0, 0, 0])\n",
    "outlier_cloud = venice_down.select_by_index(inliers, invert=True)\n",
    "o3d.visualization.draw_geometries([inlier_cloud, outlier_cloud])"
   ]
  },
  {
   "cell_type": "markdown",
   "metadata": {},
   "source": [
    "# Point Cloud Outlier Removal\n",
    "statistical_outlier_removal removes points that are further away from their neighbors compared to the average for the point cloud. It takes two input parameters:\n",
    "\n",
    "1. nb_neighbors, which specifies how many neighbors are taken into account in order to calculate the average distance for a given point.\n",
    "2. std_ratio, which allows setting the threshold level based on the standard deviation of the average distances across the point cloud. The lower this number the more aggressive the filter will be."
   ]
  },
  {
   "cell_type": "code",
   "execution_count": 16,
   "metadata": {},
   "outputs": [
    {
     "name": "stdout",
     "output_type": "stream",
     "text": [
      "Statistical oulier removal\n",
      "Remove statistical outliers: [========================================] 100%\n"
     ]
    }
   ],
   "source": [
    "print(\"Statistical oulier removal\")\n",
    "venice_down, ind = venice_down.remove_statistical_outlier(nb_neighbors=20, std_ratio=2.0)"
   ]
  },
  {
   "cell_type": "markdown",
   "metadata": {},
   "source": [
    "# Point Cloud Redressing\n",
    "\n",
    "Please note that here we need to do an iteration so that we could get a more precise model\n",
    "\n",
    "1. We first rotate the PointCloud so that the plane in the PointCloud is XoY plane\n",
    "2. Then we scale the PointCloud so that the height in the model would match the height in real world\n",
    "3. In the end, we translate the PointCloud so that the plane equation could be Z=0"
   ]
  },
  {
   "cell_type": "code",
   "execution_count": 17,
   "metadata": {},
   "outputs": [
    {
     "name": "stdout",
     "output_type": "stream",
     "text": [
      "Plane equation: 1.7319796234134454e-05x + 0.0003149600472801958y + 0.9999999502500954z + 3.5714228076475067 = 0\n",
      "Plane equation: 0.003565504676291095x + -0.0006274814378795525y + 0.9999934467002513z + -0.3112692023052903 = 0\n",
      "Plane equation: 0.0019504628118613546x + 0.0016724274426002034y + 0.9999966993351873z + 0.8060104421114023 = 0\n",
      "Plane equation: 0.004343105385845667x + 0.0012683199492295944y + 0.9999897643476726z + -0.829525972328512 = 0\n",
      "Plane equation: 0.0035333792543046708x + -0.0005125540880867755y + 0.9999936262393636z + 0.6204380176838785 = 0\n",
      "Plane equation: 0.0056559357829633426x + -0.00024633851024181665y + 0.9999839747254741z + -0.8446119574231453 = 0\n",
      "Plane equation: 0.0019691973419972714x + -0.0006627391122753552y + 0.9999978415170192z + 0.4812957797183621 = 0\n",
      "Plane equation: -0.007957011244553147x + 0.004714509403682265y + 0.9999572287718793z + -0.6275770026512567 = 0\n",
      "Plane equation: 0.0043162081227538255x + -0.0038424721252265604y + 0.9999833027383047z + 0.5427797512913634 = 0\n",
      "Plane equation: -0.004039682382336599x + 0.0005707521552826087y + 0.9999916775694822z + 0.3347757814873862 = 0\n",
      "Plane equation: 0.009563380648008792x + -0.0002786572071532593y + 0.9999542310029705z + -0.3609893611378566 = 0\n",
      "Plane equation: 0.0064795853312398155x + -0.00022092796420888707y + 0.9999789828615249z + 0.3761005194866799 = 0\n",
      "Plane equation: 0.0040576596416686175x + 0.0013898148665710784y + 0.9999908018641318z + -0.4258913935195721 = 0\n",
      "Plane equation: -0.0030906797349942775x + 0.0012121544647967044y + 0.99999448917498z + -0.06877592498949556 = 0\n",
      "Plane equation: -0.001414358860678841x + 0.001146015053370432y + 0.9999983431178827z + 0.35331842348176207 = 0\n",
      "Plane equation: 0.002820241722111298x + 0.00037124665721364027y + 0.9999959541980898z + 0.07045554673989737 = 0\n",
      "Plane equation: 0.00449307557673118x + 0.00034390486959372637y + 0.999989846949109z + -0.4828274000453102 = 0\n",
      "Plane equation: -0.007606782967472145x + 0.004453414143638088y + 0.9999611512230618z + 0.058181222949892364 = 0\n",
      "Plane equation: 0.0047099611560208x + -8.89765192060746e-05y + 0.9999889041129845z + 0.3235460979389112 = 0\n",
      "Plane equation: -0.0023495906563676316x + -0.001225425212612089y + 0.9999964888722339z + -0.007025785739076373 = 0\n",
      "Plane equation: -0.002573914153663963x + 0.0005549280071282457y + 0.9999965335044099z + 0.1110790406568331 = 0\n",
      "Plane equation: 0.0034697751365221773x + -0.0006271216777147344y + 0.9999937836701304z + -0.05178735640399397 = 0\n",
      "Plane equation: 0.004334192619565128x + 0.00031282728649098014y + 0.9999905584121409z + -0.016209216363857082 = 0\n",
      "Plane equation: 0.006349360263051189x + 0.0016787828156057637y + 0.9999784334236954z + 0.42910060316567245 = 0\n",
      "Plane equation: 0.002411090094939824x + 0.00015148531124633334y + 0.9999970818441194z + -0.44153334670662037 = 0\n",
      "Plane equation: -0.0013876506437011313x + 0.003069715281034902y + 0.999994325620793z + -0.549408712497343 = 0\n",
      "Plane equation: 0.004836499492024331x + 0.00011236411744087897y + 0.9999882977550132z + 0.7400365437633342 = 0\n",
      "Plane equation: 0.0054385801671782185x + -5.066833496084877e-05y + 0.9999852095298635z + -0.3689526610403918 = 0\n",
      "Plane equation: 0.005047503566816154x + 7.52385495301721e-05y + 0.9999872584422783z + 0.12956624143288922 = 0\n",
      "Plane equation: 0.0027965779667248492x + -0.000941357398122678y + 0.999995646489486z + 0.22835952344611132 = 0\n",
      "Plane equation: 0.0070594306961244135x + -0.004163161937906751y + 0.99996641569651z + -0.851913195151035 = 0\n",
      "Plane equation: 0.0005156773901037962x + 0.002441929282034758y + 0.9999968855242554z + 0.12203146989185121 = 0\n",
      "Plane equation: 0.008175310490428482x + -0.0005933679820539918y + 0.9999664055421176z + 0.4874302425689667 = 0\n",
      "Plane equation: 0.013615293645162122x + -0.0012636873954385496y + 0.999906509066284z + -0.46576955565023864 = 0\n",
      "Plane equation: 0.0022557860969233744x + -0.0020071708244493876y + 0.9999954413367925z + 0.37787319673635017 = 0\n",
      "Plane equation: 0.0060220665598709755x + 0.0002764802232241841y + 0.9999818289714242z + -0.4336447787421545 = 0\n",
      "Plane equation: 0.001943687490035682x + -0.0027548413869872813y + 0.9999943164477855z + 0.42039596234592613 = 0\n",
      "Plane equation: -0.05082845224252399x + 0.014782314093072277y + 0.998597993004534z + -6.579485180469197 = 0\n",
      "Plane equation: 0.007701668567877464x + -0.002706500767021946y + 0.9999666790222906z + 8.21067308677407 = 0\n",
      "Plane equation: 0.0062037044387493155x + -0.0011562162118095181y + 0.9999800884094183z + -2.1771730904464266 = 0\n",
      "Plane equation: 0.006213319714691284x + -0.0011248087085418848y + 0.9999800645330347z + 0.993529954209282 = 0\n",
      "Plane equation: 0.012050012521173447x + -0.0005566442531652299y + 0.9999272410257734z + -0.6470800916628375 = 0\n",
      "Plane equation: 0.007168020594447082x + -0.0017489970360286453y + 0.9999727798745952z + 0.4422231439279909 = 0\n",
      "Plane equation: 0.009214224657870976x + -0.0017892563100852224y + 0.9999559473425872z + -0.044948567729832245 = 0\n",
      "Plane equation: -0.005327122997864717x + 0.006095068401611232y + 0.9999672354141135z + -1.3057723785169426 = 0\n",
      "Plane equation: -0.007885810890083831x + 0.0047787581957878834y + 0.9999574878247134z + 0.8179800082319364 = 0\n",
      "Plane equation: 0.008292780262405229x + -0.0036706642244223975y + 0.9999588771642917z + 1.1569583208896648 = 0\n",
      "Plane equation: 0.003239057659890483x + 0.0011872139213013775y + 0.9999940494965862z + -0.8790264234768841 = 0\n",
      "Plane equation: 0.01001666190180584x + 0.010982480630484697y + 0.9998895196988244z + -15.527975907938902 = 0\n",
      "Plane equation: 0.00532693781882212x + -0.00023971754831988266y + 0.9999857830334247z + 21.63868625392092 = 0\n",
      "Plane equation: 0.005872708084101932x + -0.0005138189492178985y + 0.9999826234939517z + -7.37124034401036 = 0\n",
      "Plane equation: 0.005727502465143692x + -0.0005381281662737067y + 0.9999834529298914z + 2.5291152171578295 = 0\n",
      "Plane equation: 0.003371438345256881x + -3.362829484968324e-05y + 0.9999943161201578z + -1.4841672309468434 = 0\n",
      "Plane equation: 0.004913744501642508x + -0.0038539268297492144y + 0.999980500991376z + 0.27508033866133674 = 0\n",
      "Plane equation: 0.005984071381771804x + -0.00015243065098409495y + 0.9999820836667996z + -0.12034797442871725 = 0\n",
      "Plane equation: 0.005575349844892735x + -0.0008112078031339561y + 0.9999841285820525z + 0.4609107678232603 = 0\n",
      "Plane equation: 0.0051951421419894x + -0.0024465378475467215y + 0.999983512339421z + -0.4109219599002033 = 0\n",
      "Plane equation: 0.005215569994852703x + -0.001583240321037118y + 0.999985145479529z + 0.46495209834296025 = 0\n",
      "Plane equation: -0.0008491018229441101x + -0.003894420179427377y + 0.9999920562272284z + -0.6669664590058042 = 0\n",
      "Plane equation: 0.00794843441357816x + -0.007108423415524712y + 0.9999431447371989z + -0.5318828547249359 = 0\n",
      "Plane equation: -0.00137659461607321x + 0.0007332274618590223y + 0.9999987836816364z + 0.8698220710678706 = 0\n",
      "Plane equation: -0.007356027320715825x + 0.00511285357205681y + 0.9999598729901155z + -1.1665121375848975 = 0\n",
      "Plane equation: 0.0029921944822275575x + -0.0008133356806919122y + 0.99999519261707z + 1.487706051852941 = 0\n",
      "Plane equation: -0.012794594682713696x + 0.005670614235071036y + 0.9999020664450604z + -2.311055116638096 = 0\n",
      "Plane equation: 0.009668007357535811x + -0.0014803965448240055y + 0.9999521678859468z + 2.586408815675608 = 0\n",
      "Plane equation: 0.001392671456938412x + -0.0006393997526883898y + 0.9999988258163953z + -1.2557903983808132 = 0\n",
      "Plane equation: -0.02283023187230535x + 0.00838830107201661y + 0.9997041646996285z + -11.51993903127282 = 0\n",
      "Plane equation: 0.005399811588825769x + -0.003095775418771784y + 0.9999806289170614z + 15.775473318222753 = 0\n",
      "Plane equation: 0.0055998187016053965x + -0.0011450410655904364y + 0.9999836653223229z + -4.9745362801657675 = 0\n",
      "Plane equation: 0.0017464345093148607x + 0.0003727283141412101y + 0.999998405518783z + 2.551689069004384 = 0\n",
      "Plane equation: 0.005216273282328854x + -0.001459471469501091y + 0.9999853301104341z + -1.504288400261409 = 0\n",
      "Plane equation: 0.009165810838633782x + -0.0010416233608652552y + 0.9999574505609949z + 0.5814887284195699 = 0\n",
      "Plane equation: 0.005782977087205013x + -0.0004187493097774822y + 0.9999831907712371z + -0.09616908979959762 = 0\n",
      "Plane equation: 0.0034853363995912185x + -0.005841559739585459y + 0.9999768640373589z + 1.1980186716103127 = 0\n",
      "Plane equation: 0.0016825376169292388x + 0.0019682120297907497y + 0.9999966475986674z + -2.5154084019456753 = 0\n",
      "Plane equation: 0.00939925677553569x + -0.001231905485350173y + 0.9999550671809924z + 1.1858304937343271 = 0\n",
      "Plane equation: 0.0057376327578089x + -0.004530977066785469y + 0.9999732745514536z + -0.4716074835679202 = 0\n",
      "Plane equation: -0.0032245955657961875x + 0.0020540558248742426y + 0.9999926913923448z + 0.20829226407349322 = 0\n",
      "Plane equation: 0.007972579787795349x + -0.006565429202823406y + 0.999946665133151z + -0.3973333533010085 = 0\n",
      "Plane equation: 0.002689516456589209x + -0.0013311317739038838y + 0.9999954972845779z + 0.5751103450388464 = 0\n",
      "Plane equation: 0.0057578716333186435x + -0.0012453365156446475y + 0.9999826478750603z + -0.09517921134411367 = 0\n",
      "Plane equation: 0.0064432405398095445x + -0.005250555792153285y + 0.9999654575610198z + -0.3487008410612797 = 0\n",
      "Plane equation: 0.009062163532136316x + -0.008224454587564453y + 0.9999251149655428z + -0.6165409595012468 = 0\n",
      "Plane equation: 0.006053450239937881x + -0.0012277262351708205y + 0.9999809240322958z + 1.1745867241912828 = 0\n",
      "Plane equation: 0.0014382747399651619x + -0.0008983530592034617y + 0.999998562162743z + 0.05744049699594732 = 0\n",
      "Plane equation: 0.0036662333875864105x + -0.0030511552563972748y + 0.9999886245274738z + -0.4615281502780748 = 0\n",
      "Plane equation: 0.0006059800676137723x + 0.001139010544410612y + 0.9999991677212223z + 0.05772048979762921 = 0\n",
      "Plane equation: 0.0065449334323728564x + -0.0035268929304853825y + 0.9999723620543833z + -0.021843355934852662 = 0\n",
      "Plane equation: 0.005506785540772454x + -0.00635377765498046y + 0.9999646517865114z + -0.39689390478954806 = 0\n",
      "Plane equation: 0.002175316539332942x + -0.0003779533937348276y + 0.9999975625716225z + 0.5957938492852103 = 0\n",
      "Plane equation: -0.0024652933195614553x + -0.000703142386569275y + 0.9999967139544174z + 0.391763967762463 = 0\n",
      "Plane equation: 0.007710485658451512x + -0.0008925445907226277y + 0.9999698754337875z + -0.3538334187126567 = 0\n",
      "Plane equation: -6.588769495220033e-05x + -0.0016077135868687233y + 0.9999987054570793z + 0.20416557478163558 = 0\n",
      "Plane equation: 0.004138385465405602x + -0.0021406799486985467y + 0.999989145568639z + 0.010284640548836432 = 0\n",
      "Plane equation: 0.006155986291811189x + 0.0010025496119497699y + 0.999980549174358z + -0.8965771596709664 = 0\n",
      "Plane equation: 0.004718875249998018x + 0.0004526768043624089y + 0.9999887635869145z + 0.561089130208766 = 0\n",
      "Plane equation: -0.0013778214717589548x + 0.0019291682548734338y + 0.99999718995497z + -0.1555650856072644 = 0\n",
      "Plane equation: -0.0009981361050127573x + 0.001402818830806651y + 0.9999985179107236z + 0.6388575842441429 = 0\n",
      "Plane equation: -0.005015733618150329x + 0.004951045042712804y + 0.9999751644762268z + -1.3945499033109963 = 0\n",
      "Plane equation: 0.012676357557272247x + -0.003803657691341248y + 0.9999124172382535z + 2.2099474764863754 = 0\n"
     ]
    }
   ],
   "source": [
    "for i in range(1000):\n",
    "\n",
    "    cos = c\n",
    "    sin = np.sqrt(a**2+b**2)\n",
    "    u1= b\n",
    "    u2= -a\n",
    "\n",
    "    R = [[cos+u1**2*(1-cos), u1*u2*(1-cos), u2*sin],\n",
    "    [u1*u2*(1-cos),cos+u2**2*(1-cos),-u1*sin],\n",
    "    [-u2*sin, u1*sin, cos]]\n",
    "    \n",
    "    venice_down.rotate(R, center=venice_down.get_center())\n",
    "\n",
    "    venice_coordinate = np.asarray(venice_down.points)\n",
    "    distance = np.zeros((len(venice_coordinate),1))\n",
    "    for i in range(len(venice_coordinate)):\n",
    "        distance[i] = abs(venice_coordinate[i,0]*a+ venice_coordinate[i,1]*b+ venice_coordinate[i,2]*c +d)/np.sqrt(a**2+b**2+c**2)\n",
    "\n",
    "    venice_down.scale(98.6/distance[np.argmax(distance, axis=0)][0,0], center=venice_down.get_center())\n",
    "\n",
    "    plane_model, inliers = venice_down.segment_plane(distance_threshold=0.01,\n",
    "                                         ransac_n=3,\n",
    "                                         num_iterations=1000)\n",
    "    [a, b, c, d] = plane_model\n",
    "    venice_down = venice_down.translate((0, 0, d))\n",
    "    \n",
    "    print(f\"Plane equation: {a}x + {b}y + {c}z + {d} = 0\")"
   ]
  },
  {
   "cell_type": "markdown",
   "metadata": {},
   "source": [
    "# Verification"
   ]
  },
  {
   "cell_type": "code",
   "execution_count": 5,
   "metadata": {},
   "outputs": [],
   "source": [
    "venice_coordinate = np.asarray(venice_down.points)\n",
    "distance = np.zeros((len(venice_coordinate),1))\n",
    "for i in range(len(venice_coordinate)):\n",
    "    distance[i] = abs(venice_coordinate[i,0]*a+ venice_coordinate[i,1]*b+ venice_coordinate[i,2]*c +d)/np.sqrt(a**2+b**2+c**2)"
   ]
  },
  {
   "cell_type": "markdown",
   "metadata": {},
   "source": [
    "Z coordinate of the height point in Venice: (reference:98.6m)"
   ]
  },
  {
   "cell_type": "code",
   "execution_count": 6,
   "metadata": {},
   "outputs": [
    {
     "data": {
      "text/plain": [
       "98.48127746582031"
      ]
     },
     "execution_count": 6,
     "metadata": {},
     "output_type": "execute_result"
    }
   ],
   "source": [
    "venice_coordinate[np.argmax(distance, axis=0)][0,2]"
   ]
  },
  {
   "cell_type": "markdown",
   "metadata": {},
   "source": [
    "Distance from the height ppoint to the ground: (reference:98.6m)"
   ]
  },
  {
   "cell_type": "code",
   "execution_count": 7,
   "metadata": {},
   "outputs": [
    {
     "data": {
      "text/plain": [
       "98.30085345850753"
      ]
     },
     "execution_count": 7,
     "metadata": {},
     "output_type": "execute_result"
    }
   ],
   "source": [
    "distance[np.argmax(distance, axis=0)][0,0]"
   ]
  },
  {
   "cell_type": "markdown",
   "metadata": {},
   "source": [
    "Take a look at the PointCloud model you constructed"
   ]
  },
  {
   "cell_type": "code",
   "execution_count": 8,
   "metadata": {},
   "outputs": [
    {
     "name": "stdout",
     "output_type": "stream",
     "text": [
      "\u001b[1;33m[Open3D WARNING] GLFW Error: Cocoa: Failed to find service port for display\u001b[0;m\n"
     ]
    }
   ],
   "source": [
    "o3d.visualization.draw_geometries([venice_down])"
   ]
  },
  {
   "cell_type": "markdown",
   "metadata": {},
   "source": [
    "# Dada! Right now we finished the model construction part, we could save the model here."
   ]
  },
  {
   "cell_type": "code",
   "execution_count": 70,
   "metadata": {},
   "outputs": [
    {
     "data": {
      "text/plain": [
       "True"
      ]
     },
     "execution_count": 70,
     "metadata": {},
     "output_type": "execute_result"
    }
   ],
   "source": [
    "o3d.io.write_point_cloud(\"/Users/liyuxiao/Downloads/venice_building_height/youtube1/youtube1_temp.ply\", venice_down)"
   ]
  }
 ],
 "metadata": {
  "interpreter": {
   "hash": "245cc788a26a2397a12e115a6f71ba94fa5011eeafd704486d5ca575066f7909"
  },
  "kernelspec": {
   "display_name": "Python 3 (ipykernel)",
   "language": "python",
   "name": "python3"
  },
  "language_info": {
   "codemirror_mode": {
    "name": "ipython",
    "version": 3
   },
   "file_extension": ".py",
   "mimetype": "text/x-python",
   "name": "python",
   "nbconvert_exporter": "python",
   "pygments_lexer": "ipython3",
   "version": "3.8.12"
  }
 },
 "nbformat": 4,
 "nbformat_minor": 2
}
