{
 "cells": [
  {
   "cell_type": "code",
   "execution_count": 1,
   "metadata": {},
   "outputs": [
    {
     "name": "stderr",
     "output_type": "stream",
     "text": [
      "INFO - 2021-12-18 22:50:41,576 - utils - NumExpr defaulting to 8 threads.\n"
     ]
    }
   ],
   "source": [
    "import numpy as np\n",
    "import open3d as o3d\n",
    "import matplotlib.pyplot as plt\n",
    "from pylab import *\n",
    "from pyntcloud import PyntCloud\n",
    "from matplotlib.pyplot import figure\n"
   ]
  },
  {
   "cell_type": "markdown",
   "metadata": {},
   "source": [
    "# Visualize Point Cloud\n",
    "\n",
    "reads a point cloud model of Venice and visualizes it"
   ]
  },
  {
   "cell_type": "code",
   "execution_count": 2,
   "metadata": {},
   "outputs": [
    {
     "name": "stdout",
     "output_type": "stream",
     "text": [
      "Load a ply point cloud\n"
     ]
    }
   ],
   "source": [
    "print(\"Load a ply point cloud\")\n",
    "venice = o3d.io.read_point_cloud('/Users/liyuxiao/Downloads/Venice.ply/venice_reproduced.ply')"
   ]
  },
  {
   "cell_type": "code",
   "execution_count": 11,
   "metadata": {},
   "outputs": [
    {
     "name": "stdout",
     "output_type": "stream",
     "text": [
      "Print (and visualize) the ply point cloud\n",
      "PointCloud with 4093530 points.\n",
      "[[-3.21571118e+02 -2.48106492e+03  1.64116309e+00]\n",
      " [-3.28938886e+02 -2.48008782e+03  1.29477744e+00]\n",
      " [-3.28718691e+02 -2.47819047e+03  1.62962471e+00]\n",
      " ...\n",
      " [ 1.35218538e+03  1.88591577e+02  9.99854807e+00]\n",
      " [-7.04763137e+02  9.39715193e+02  7.02373177e+00]\n",
      " [-9.63983102e+02  3.89082728e+02  3.52930193e+00]]\n",
      "\u001b[1;33m[Open3D WARNING] GLFW Error: Cocoa: Failed to find service port for display\u001b[0;m\n"
     ]
    }
   ],
   "source": [
    "print(\"Print (and visualize) the ply point cloud\")\n",
    "print(venice)\n",
    "print(np.asarray(venice.points))\n",
    "o3d.visualization.draw_geometries([venice])"
   ]
  },
  {
   "cell_type": "markdown",
   "metadata": {},
   "source": [
    "# Voxel downsampling\n",
    "Voxel downsampling uses a regular voxel grid to create a uniformly downsampled point cloud from an input point cloud. It is often used as a pre-processing step for many point cloud processing tasks. The algorithm operates in two steps:\n",
    "1. Points are bucketed into voxels.\n",
    "2. Each occupied voxel generates exactly one point by averaging all points inside."
   ]
  },
  {
   "cell_type": "code",
   "execution_count": 4,
   "metadata": {},
   "outputs": [
    {
     "name": "stdout",
     "output_type": "stream",
     "text": [
      "Downsample the point cloud with a voxel of 0.04\n"
     ]
    }
   ],
   "source": [
    "print(\"Downsample the point cloud with a voxel of 0.04\")\n",
    "venice_down = venice.voxel_down_sample(voxel_size = 0.04)"
   ]
  },
  {
   "cell_type": "markdown",
   "metadata": {},
   "source": [
    "After we downsampled the PointCloud, it should be much easier to visualize the PointCloud"
   ]
  },
  {
   "cell_type": "code",
   "execution_count": 4,
   "metadata": {},
   "outputs": [
    {
     "name": "stdout",
     "output_type": "stream",
     "text": [
      "\u001b[1;33m[Open3D WARNING] GLFW Error: Cocoa: Failed to find service port for display\u001b[0;m\n"
     ]
    }
   ],
   "source": [
    "o3d.visualization.draw_geometries([venice_down])"
   ]
  },
  {
   "cell_type": "markdown",
   "metadata": {},
   "source": [
    "# Plane segmentation\n",
    "Open3D also supports segmententation of geometric primitives from point clouds using RANSAC. To find the plane with the largest support in the point cloud, we can use segment_plane. The method has three arguments: distance_threshold defines the maximum distance a point can have to an estimated plane to be considered an inlier, ransac_n defines the number of points that are randomly sampled to estimate a plane, and num_iterations defines how often a random plane is sampled and verified. The function then returns the plane as (𝑎,𝑏,𝑐,𝑑) such that for each point (𝑥,𝑦,𝑧) on the plane we have 𝑎𝑥+𝑏𝑦+𝑐𝑧+𝑑=0. The function further returns a list of indices of the inlier points."
   ]
  },
  {
   "cell_type": "code",
   "execution_count": 3,
   "metadata": {},
   "outputs": [
    {
     "name": "stdout",
     "output_type": "stream",
     "text": [
      "Plane equation: 0.00016659863078426673x + 0.0007392040975757255y + 0.9999997129110579z + 0.0807718749686342 = 0\n"
     ]
    }
   ],
   "source": [
    "plane_model, inliers = venice_down.segment_plane(distance_threshold=0.01,\n",
    "                                         ransac_n=3,\n",
    "                                         num_iterations=1000)\n",
    "[a, b, c, d] = plane_model\n",
    "print(f\"Plane equation: {a}x + {b}y + {c}z + {d} = 0\")"
   ]
  },
  {
   "cell_type": "markdown",
   "metadata": {},
   "source": [
    "Visualize the plane"
   ]
  },
  {
   "cell_type": "code",
   "execution_count": 4,
   "metadata": {},
   "outputs": [
    {
     "name": "stdout",
     "output_type": "stream",
     "text": [
      "\u001b[1;33m[Open3D WARNING] GLFW Error: Cocoa: Failed to find service port for display\u001b[0;m\n"
     ]
    }
   ],
   "source": [
    "inlier_cloud = venice_down.select_by_index(inliers)\n",
    "inlier_cloud.paint_uniform_color([1.0, 0, 0])\n",
    "outlier_cloud = venice_down.select_by_index(inliers, invert=True)\n",
    "o3d.visualization.draw_geometries([inlier_cloud, outlier_cloud])"
   ]
  },
  {
   "cell_type": "markdown",
   "metadata": {},
   "source": [
    "# Point cloud outlier removal\n",
    "statistical_outlier_removal removes points that are further away from their neighbors compared to the average for the point cloud. It takes two input parameters:\n",
    "\n",
    "1. nb_neighbors, which specifies how many neighbors are taken into account in order to calculate the average distance for a given point.\n",
    "\n",
    "2. std_ratio, which allows setting the threshold level based on the standard deviation of the average distances across the point cloud. The lower this number the more aggressive the filter will be.\n",
    "\n"
   ]
  },
  {
   "cell_type": "code",
   "execution_count": 121,
   "metadata": {},
   "outputs": [
    {
     "name": "stdout",
     "output_type": "stream",
     "text": [
      "Statistical oulier removal\n",
      "Radius oulier removaltliers: [=>                                      ] 2%\n",
      "Remove statistical outliers: [========================================] 100%\n",
      "Remove radius outliers: [========================================] 100%\n"
     ]
    }
   ],
   "source": [
    "print(\"Statistical oulier removal\")\n",
    "venice_down, ind = venice_down.remove_statistical_outlier(nb_neighbors=20, std_ratio=2.0)\n",
    "print(\"Radius oulier removal\")\n",
    "cl, ind = venice_down.remove_radius_outlier(nb_points=16, radius=0.05)"
   ]
  },
  {
   "cell_type": "markdown",
   "metadata": {},
   "source": [
    "Get the coordinates of the points and the total number of points"
   ]
  },
  {
   "cell_type": "code",
   "execution_count": 7,
   "metadata": {},
   "outputs": [
    {
     "name": "stdout",
     "output_type": "stream",
     "text": [
      "coordinates of points:\n",
      "[[  0.76118314 -20.92252541  47.1059494 ]\n",
      " [  0.63333982 -20.92252541  47.08749771]\n",
      " [  0.63729376 -20.90539169  47.05981827]\n",
      " ...\n",
      " [ 30.0746727   -3.96003485   5.44277859]\n",
      " [ -5.58549881   0.5007506   -6.63570881]\n",
      " [-10.13751984  -3.01791453   1.95749509]]\n",
      "total number of points:\n"
     ]
    },
    {
     "data": {
      "text/plain": [
       "4093530"
      ]
     },
     "execution_count": 7,
     "metadata": {},
     "output_type": "execute_result"
    }
   ],
   "source": [
    "venice_coordinate = np.asarray(venice_down.points)\n",
    "print('coordinates of points:')\n",
    "print(venice_coordinate)\n",
    "print('total number of points:')\n",
    "len(venice_coordinate)"
   ]
  },
  {
   "cell_type": "markdown",
   "metadata": {},
   "source": [
    "# Point cloud Redress\n",
    "\n",
    "Please note that here we need to do an iteration so that we could get a more precise model\n",
    "\n",
    "1. We first rotate the PointCloud so that the plane in the PointCloud is XoY plane\n",
    "2. Then we scale the PointCloud so that the height in the model would match the height in real world\n",
    "3. In the end, we translate the PointCloud so that the plane equation could be Z=0"
   ]
  },
  {
   "cell_type": "code",
   "execution_count": 5,
   "metadata": {},
   "outputs": [
    {
     "name": "stdout",
     "output_type": "stream",
     "text": [
      "Plane equation: 7.746926473970973e-05x + 0.0006669445225433313y + 0.9999997745917331z + 0.0453388697521056 = 0\n",
      "Plane equation: 0.00010366723649106242x + 0.0009458163277750072y + 0.9999995473421867z + 0.1266336400268746 = 0\n",
      "Plane equation: -0.000943271509038323x + 0.000991546997642555y + 0.9999990635362672z + -0.6945237757280741 = 0\n",
      "Plane equation: -0.0005553443634431247x + 0.0009488583777942256y + 0.9999993956300258z + 0.21321948709904837 = 0\n",
      "Plane equation: 0.00011816087714508158x + 0.000667307430805578y + 0.9999997703693736z + 0.35167620367785396 = 0\n",
      "Plane equation: 0.00019875935409840924x + 0.0006949919946080666y + 0.999999738740389z + -0.06510987139227913 = 0\n",
      "Plane equation: 0.00024459938396724983x + 0.0007413940845706907y + 0.99999969525293z + 0.0708162258173986 = 0\n",
      "Plane equation: 0.00026000908359397534x + 0.0008423892284613589y + 0.9999996113877567z + 0.1042041366285544 = 0\n",
      "Plane equation: 3.287474215005547e-05x + 0.0008211792314751342y + 0.9999996622919035z + 0.007040438679644656 = 0\n",
      "Plane equation: -3.1746571308813026e-05x + 0.0008344785833346169y + 0.9999996513187638z + -0.0005442539258379217 = 0\n",
      "Plane equation: 7.93881841902795e-06x + 0.0008556092421789812y + 0.9999996339348329z + -0.14420846429666354 = 0\n",
      "Plane equation: 0.0002599794994936624x + 0.0008542372960464777y + 0.9999996013445714z + 0.15022820073778076 = 0\n",
      "Plane equation: 0.00013115335296147503x + 0.0008517644088923197y + 0.9999996286480259z + 0.061595975976380404 = 0\n",
      "Plane equation: 0.00016601171834818961x + 0.0007023052433784509y + 0.9999997396036933z + -0.11931071180865942 = 0\n",
      "Plane equation: 8.268376884475467e-05x + 0.0007542991474613861y + 0.9999997120980537z + -0.007524914877172342 = 0\n",
      "Plane equation: 0.00021491111514309656x + 0.0006096101515382326y + 0.9999997910943159z + 0.04520610789148059 = 0\n",
      "Plane equation: 0.00010922718751041054x + 0.0007086814835813991y + 0.9999997429199552z + 0.004441696381638445 = 0\n",
      "Plane equation: 1.6032972923047904e-05x + 0.0006537030503844048y + 0.99999978620761z + -0.05397690398515145 = 0\n",
      "Plane equation: -2.4924449611245194e-05x + 0.0007450654637514851y + 0.9999997221280746z + 0.019526474737397062 = 0\n",
      "Plane equation: 5.9787836414947084e-05x + 0.000792143319353187y + 0.9999996844671384z + 0.1655352289628405 = 0\n",
      "Plane equation: 0.00013582118324421676x + 0.00041217587645046903y + 0.9999999058318222z + -0.6122260259203227 = 0\n",
      "Plane equation: 0.00011250000144988455x + 0.0008492834815793099y + 0.9999996330305915z + 0.6561771857198739 = 0\n",
      "Plane equation: 0.00010710023524322956x + 0.0006729681214139169y + 0.9999997678216965z + -0.2883542673023463 = 0\n",
      "Plane equation: 0.00010988906533105852x + 0.0007274057391294522y + 0.9999997294026054z + 0.04703946200684039 = 0\n",
      "Plane equation: 1.1418938386846034e-05x + 0.0008223101149046018y + 0.9999996618377841z + -0.08941618814489503 = 0\n",
      "Plane equation: 1.7808909691986347e-05x + 0.0008408546304839033y + 0.9999996463231039z + -0.060401121732894816 = 0\n",
      "Plane equation: -0.000573382976056951x + 0.0009038873388312854y + 0.9999994271096565z + -0.33558475932873516 = 0\n",
      "Plane equation: 0.00015679610332570932x + 0.0007115310087125296y + 0.9999997345692676z + 0.7486231659205315 = 0\n",
      "Plane equation: 8.341654237623991e-05x + 0.0006849461518978867y + 0.9999997619451964z + -0.3205922062784149 = 0\n",
      "Plane equation: 0.00013983420487080573x + 0.0007466567742315963y + 0.9999997114749868z + 0.13231236918287634 = 0\n",
      "Plane equation: 0.00014022305176079677x + 0.0007505756468571808y + 0.9999997084868045z + 0.06788630873642967 = 0\n",
      "Plane equation: 0.00018623452160162002x + 0.0007714837779911889y + 0.9999996850646921z + -0.2525077897785431 = 0\n",
      "Plane equation: 0.00013206547000882283x + 0.0007827195395553481y + 0.9999996849543673z + 0.07707132500511814 = 0\n",
      "Plane equation: 0.0002126513982290684x + 0.0007868014007166082y + 0.9999996678614143z + 0.20090378988250168 = 0\n",
      "Plane equation: 0.00011747614542343958x + 0.0008786741368960412y + 0.9999996070654811z + -0.14105807595158876 = 0\n",
      "Plane equation: 5.028273816935779e-05x + 0.000645470564327067y + 0.9999997904196765z + 0.1000119823682608 = 0\n",
      "Plane equation: -1.6913954602565346e-05x + 0.000755694747963458y + 0.9999997143196422z + 0.012304216369419781 = 0\n",
      "Plane equation: 0.00013789317999081432x + 0.0006811435386922509y + 0.9999997585144463z + -0.13859834955660374 = 0\n",
      "Plane equation: 7.420770015174404e-05x + 0.0009045551691316784y + 0.9999995881364968z + 0.04880570654634046 = 0\n",
      "Plane equation: 3.473492644755094e-06x + 0.0007377687036842252y + 0.9999997278426003z + -0.0047510230507311416 = 0\n",
      "Plane equation: 0.00012203885645280622x + 0.0008543744255770096y + 0.9999996275753598z + -0.020906161275119472 = 0\n",
      "Plane equation: 4.347317673842463e-05x + 0.0008950831791338622y + 0.999999598468012z + -0.03250821375301648 = 0\n",
      "Plane equation: -2.1683711452786392e-05x + 0.0006917018219125844y + 0.9999997605391745z + 0.014045631973398122 = 0\n",
      "Plane equation: -0.00015645615117027928x + 0.0007503027362959745y + 0.9999997062835951z + 0.1959141159745106 = 0\n",
      "Plane equation: 0.00017463765236921453x + 0.0007814829395170831y + 0.9999996793930015z + -0.11046957586771852 = 0\n",
      "Plane equation: -4.581967018676547e-05x + 0.0006723135934384012y + 0.9999997729474692z + 0.015382975938465646 = 0\n",
      "Plane equation: -1.546205208510064e-05x + 0.0007404066255859046y + 0.9999997257794392z + -0.10599894147331254 = 0\n",
      "Plane equation: 0.00018491710362428273x + 0.0007917865948439463y + 0.9999996694397718z + 0.13507233925313342 = 0\n",
      "Plane equation: 0.00017599004213727606x + 0.0006791765373050168y + 0.9999997538733378z + -0.09716627724538399 = 0\n",
      "Plane equation: 0.00020710744462069738x + 0.0008534640812794865y + 0.9999996143527098z + 0.045757934035434655 = 0\n",
      "Plane equation: 6.935581307362377e-05x + 0.0008728708296893886y + 0.9999996166430695z + -0.12012460106486805 = 0\n",
      "Plane equation: 0.0001466922721092906x + 0.0008116644756936994y + 0.9999996598410202z + 0.12344356342431163 = 0\n",
      "Plane equation: 5.9778809868242736e-05x + 0.00044462160733240266y + 0.999999899369055z + -0.06957894583607607 = 0\n",
      "Plane equation: 0.0001364793287031777x + 0.0006779440681579164y + 0.9999997608825881z + -0.032044748910478454 = 0\n",
      "Plane equation: -4.001099253313413e-06x + 0.0006707828983528375y + 0.999999775017122z + 0.11899326384614155 = 0\n",
      "Plane equation: 0.00012800008215548543x + 0.000793300728904024y + 0.999999677144914z + 0.02321807849114546 = 0\n",
      "Plane equation: -4.2340586544801537e-05x + 0.0006460932637966879y + 0.9999997903853627z + -0.051035580861257146 = 0\n",
      "Plane equation: 0.00013672106560678888x + 0.0008400318760913917y + 0.9999996378268331z + -0.031503745267472676 = 0\n",
      "Plane equation: 7.075973786400505e-05x + 0.0006132124570432939y + 0.9999998094817529z + -0.20428160619367547 = 0\n",
      "Plane equation: 0.0001962981066555948x + 0.0008227419251611069y + 0.999999642281325z + 0.2519112238470604 = 0\n",
      "Plane equation: 7.910796650516206e-05x + 0.000677817235495761y + 0.9999997671528353z + -0.2034574944896752 = 0\n",
      "Plane equation: 0.00012451247969718228x + 0.0007917502429550723y + 0.9999996788140462z + 0.29209998364946865 = 0\n",
      "Plane equation: 0.00014796411658073275x + 0.0006563739982592106y + 0.9999997736398717z + -0.13123916780245373 = 0\n",
      "Plane equation: -2.156227050035945e-05x + 0.0008138659322211035y + 0.9999996685786015z + -0.03505011882625467 = 0\n",
      "Plane equation: 0.0002540070073088024x + 0.000694744436146022y + 0.9999997264052669z + -0.06043193943160799 = 0\n",
      "Plane equation: 7.113770791955893e-05x + 0.0005733452710816858y + 0.9999998331072993z + 0.14166384789027733 = 0\n",
      "Plane equation: -0.0006751645294887133x + 0.0009562072708358523y + 0.999999314910022z + -0.5809974788526152 = 0\n",
      "Plane equation: 4.238082057267354e-05x + 0.0005955457078950526y + 0.999999821764572z + 0.6247207188181849 = 0\n",
      "Plane equation: -5.439562630053645e-05x + 0.0006685704711556117y + 0.9999997750272952z + -0.1458955670245299 = 0\n",
      "Plane equation: 0.00013047689052066695x + 0.0007095453918471689y + 0.9999997397605251z + 0.0036897248409029637 = 0\n",
      "Plane equation: 9.254401514876088e-05x + 0.0007533269949542823y + 0.9999997119669805z + 0.23061921426917611 = 0\n",
      "Plane equation: 0.0002983434533736102x + 0.0007004584899345755y + 0.9999997101745018z + -0.1305799980501043 = 0\n",
      "Plane equation: -0.000449088737638278x + 0.0008392059459534473y + 0.9999995470262404z + -0.47602385307162853 = 0\n",
      "Plane equation: 0.00018568931612818686x + 0.0008458025731601713y + 0.9999996250686722z + 0.41970659642798464 = 0\n",
      "Plane equation: -0.0004912087718664312x + 0.0008378712340177135y + 0.9999995283427575z + -0.5040962866514709 = 0\n",
      "Plane equation: 0.00028132546628170007x + 0.0006630704691746673y + 0.9999997405967338z + 0.46814817171945133 = 0\n",
      "Plane equation: -5.849843657616969e-05x + 0.0007463936927787996y + 0.9999997197371548z + 0.04187737378217504 = 0\n",
      "Plane equation: 6.25180837467169e-05x + 0.0007638339617366385y + 0.9999997063245409z + 0.0760654668422746 = 0\n",
      "Plane equation: 0.0001713695735075826x + 0.0006763313514574661y + 0.9999997566041565z + -0.08093281684144955 = 0\n",
      "Plane equation: 4.915216784539456e-05x + 0.0008227938576282727y + 0.9999996602971084z + -0.07211313866338082 = 0\n",
      "Plane equation: 0.00029223598345968344x + 0.0008178812835961284y + 0.9999996228340968z + 0.15533063883443055 = 0\n",
      "Plane equation: -0.0002412980572446699x + 0.0008140223393728771y + 0.9999996395713744z + -0.278790576473494 = 0\n",
      "Plane equation: -0.00012740345740816335x + 0.0006686575933541938y + 0.9999997683326642z + 0.12396513299777151 = 0\n",
      "Plane equation: -1.1620438215826857e-05x + 0.0004950821150111593y + 0.9999998773793248z + -0.027875394326959776 = 0\n",
      "Plane equation: 0.00012942734234846196x + 0.0007604038391372399y + 0.999999702517238z + 0.21315520176126806 = 0\n",
      "Plane equation: -0.0002904945633146294x + 0.0008631651095493632y + 0.9999995852793652z + -0.4956002634373883 = 0\n",
      "Plane equation: 1.998242247926742e-05x + 0.0008399273924020079y + 0.9999996470612769z + 0.4649934514144591 = 0\n",
      "Plane equation: 0.00033806395796576893x + 0.0007304932341744532y + 0.999999676046145z + -0.18101275201904868 = 0\n",
      "Plane equation: -0.00044384647457091324x + 0.0008396460803213001y + 0.9999995489972817z + -0.31641429515372144 = 0\n",
      "Plane equation: -5.896567513670503e-05x + 0.0006637550082054238y + 0.9999997779761445z + 0.5869641965335053 = 0\n",
      "Plane equation: 0.00015711673346419702x + 0.0005530636180713514y + 0.9999998347174697z + -0.41570024715295945 = 0\n",
      "Plane equation: -0.0001971686697249406x + 0.0009368036530747984y + 0.9999995417616105z + -0.016143392470370332 = 0\n",
      "Plane equation: 7.216653369360319e-05x + 0.0006046911529871008y + 0.9999998145702833z + 0.23970409185308444 = 0\n",
      "Plane equation: -0.0006519304001851492x + 0.0008962203668660281y + 0.9999993858877151z + -0.5412744689894912 = 0\n",
      "Plane equation: 0.00011984275035428596x + 0.0006654165462080331y + 0.9999997714292416z + 0.6365300640575299 = 0\n",
      "Plane equation: 2.2274040029277657e-06x + 0.0006092378791624925y + 0.9999998144121055z + -0.23867355285436623 = 0\n",
      "Plane equation: 0.00012537494979193012x + 0.0005297638033351636y + 0.9999998518157064z + 0.15078110475532952 = 0\n",
      "Plane equation: 8.985372177072611e-05x + 0.0007320499591313295y + 0.9999997280145461z + -0.15270955301535868 = 0\n",
      "Plane equation: -0.00010785429566032454x + 0.0005928138028348775y + 0.9999998184696065z + 0.05188245349257494 = 0\n",
      "Plane equation: 6.179523163103438e-06x + 0.0006035989957277925y + 0.9999998178150163z + 0.10621981250288802 = 0\n"
     ]
    }
   ],
   "source": [
    "for i in range(100):\n",
    "\n",
    "    cos = c\n",
    "    sin = np.sqrt(a**2+b**2)\n",
    "    u1= b\n",
    "    u2= -a\n",
    "\n",
    "    R = [[cos+u1**2*(1-cos), u1*u2*(1-cos), u2*sin],\n",
    "    [u1*u2*(1-cos),cos+u2**2*(1-cos),-u1*sin],\n",
    "    [-u2*sin, u1*sin, cos]]\n",
    "    \n",
    "    venice_down.rotate(R, center=venice_down.get_center())\n",
    "\n",
    "    venice_coordinate = np.asarray(venice_down.points)\n",
    "    distance = np.zeros((len(venice_coordinate),1))\n",
    "    for i in range(len(venice_coordinate)):\n",
    "        distance[i] = abs(venice_coordinate[i,0]*a+ venice_coordinate[i,1]*b+ venice_coordinate[i,2]*c +d)/np.sqrt(a**2+b**2+c**2)\n",
    "\n",
    "    venice_down.scale(98.6/distance[np.argmax(distance, axis=0)][0,0], center=venice_down.get_center())\n",
    "\n",
    "    plane_model, inliers = venice_down.segment_plane(distance_threshold=0.01,\n",
    "                                         ransac_n=3,\n",
    "                                         num_iterations=1000)\n",
    "    [a, b, c, d] = plane_model\n",
    "    venice_down = venice_down.translate((0, 0, d))\n",
    "    \n",
    "    print(f\"Plane equation: {a}x + {b}y + {c}z + {d} = 0\")"
   ]
  },
  {
   "cell_type": "markdown",
   "metadata": {},
   "source": [
    "# Verification"
   ]
  },
  {
   "cell_type": "code",
   "execution_count": 5,
   "metadata": {},
   "outputs": [],
   "source": [
    "venice_coordinate = np.asarray(venice_down.points)\n",
    "distance = np.zeros((len(venice_coordinate),1))\n",
    "for i in range(len(venice_coordinate)):\n",
    "    distance[i] = abs(venice_coordinate[i,0]*a+ venice_coordinate[i,1]*b+ venice_coordinate[i,2]*c +d)/np.sqrt(a**2+b**2+c**2)"
   ]
  },
  {
   "cell_type": "markdown",
   "metadata": {},
   "source": [
    "Z coordinate of the height point in Venice: (reference:98.6m)"
   ]
  },
  {
   "cell_type": "code",
   "execution_count": 6,
   "metadata": {},
   "outputs": [
    {
     "data": {
      "text/plain": [
       "98.48128048053749"
      ]
     },
     "execution_count": 6,
     "metadata": {},
     "output_type": "execute_result"
    }
   ],
   "source": [
    "venice_coordinate[np.argmax(distance, axis=0)][0,2]"
   ]
  },
  {
   "cell_type": "markdown",
   "metadata": {},
   "source": [
    "Distance from the height ppoint to the ground: (reference:98.6m)"
   ]
  },
  {
   "cell_type": "code",
   "execution_count": 7,
   "metadata": {},
   "outputs": [
    {
     "data": {
      "text/plain": [
       "98.34577633244484"
      ]
     },
     "execution_count": 7,
     "metadata": {},
     "output_type": "execute_result"
    }
   ],
   "source": [
    "distance[np.argmax(distance, axis=0)][0,0]"
   ]
  },
  {
   "cell_type": "markdown",
   "metadata": {},
   "source": [
    "Take a look at the PointCloud model you constructed"
   ]
  },
  {
   "cell_type": "code",
   "execution_count": 9,
   "metadata": {},
   "outputs": [
    {
     "name": "stdout",
     "output_type": "stream",
     "text": [
      "\u001b[1;33m[Open3D WARNING] GLFW Error: Cocoa: Failed to find service port for display\u001b[0;m\n",
      "\u001b[1;33m[Open3D WARNING] GLFW Error: Cocoa: Failed to find service port for display\u001b[0;m\n"
     ]
    }
   ],
   "source": [
    "o3d.visualization.draw_geometries([venice_down])"
   ]
  },
  {
   "cell_type": "markdown",
   "metadata": {},
   "source": [
    "# Dada! Right now we finished the model construction part, we could save the model here."
   ]
  },
  {
   "cell_type": "code",
   "execution_count": 31,
   "metadata": {},
   "outputs": [
    {
     "data": {
      "text/plain": [
       "True"
      ]
     },
     "execution_count": 31,
     "metadata": {},
     "output_type": "execute_result"
    }
   ],
   "source": [
    "o3d.io.write_point_cloud(\"/Users/liyuxiao/Downloads/Venice/venice_temp.ply\", venice_down)"
   ]
  }
 ],
 "metadata": {
  "interpreter": {
   "hash": "245cc788a26a2397a12e115a6f71ba94fa5011eeafd704486d5ca575066f7909"
  },
  "kernelspec": {
   "display_name": "Python 3 (ipykernel)",
   "language": "python",
   "name": "python3"
  },
  "language_info": {
   "codemirror_mode": {
    "name": "ipython",
    "version": 3
   },
   "file_extension": ".py",
   "mimetype": "text/x-python",
   "name": "python",
   "nbconvert_exporter": "python",
   "pygments_lexer": "ipython3",
   "version": "3.8.12"
  }
 },
 "nbformat": 4,
 "nbformat_minor": 2
}
